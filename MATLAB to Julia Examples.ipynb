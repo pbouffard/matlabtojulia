{
 "cells": [
  {
   "cell_type": "markdown",
   "metadata": {},
   "source": [
    "# MATLAB to Julia Examples\n",
    "This Jupyter notebook is intended to supplement the information in the \n",
    "[MATLAB to Julia Wiki](https://github.com/pbouffard/matlabtojulia/wiki).\n",
    "\n",
    "The intended audience, like the wiki, is users who are already familiar with MATLAB\n",
    "and are interested in learning Julia, particularly if they plan to port MATLAB code\n",
    "to Julia and/or use Julia to replace MATLAB."
   ]
  },
  {
   "cell_type": "markdown",
   "metadata": {},
   "source": [
    "# Getting Started\n",
    "This notebook is developed in Julia 0.7. As of this writing the IJulia package only works in Julia 0.7 if you check out the master branch. To do so, in the Julia REPL enter package mode with the `]` key and type `add IJulia#master`. After doing so you should be able to open this notebook in Jupyter after starting it with `using IJulia; notebook()`."
   ]
  },
  {
   "cell_type": "markdown",
   "metadata": {},
   "source": [
    "# First Steps\n",
    "Let's start by printing out the version of Julia we're using:"
   ]
  },
  {
   "cell_type": "code",
   "execution_count": 48,
   "metadata": {},
   "outputs": [
    {
     "name": "stdout",
     "output_type": "stream",
     "text": [
      "Julia Version 0.7.0-beta2.0\n",
      "Commit b145832402* (2018-07-13 19:54 UTC)\n",
      "Platform Info:\n",
      "  OS: macOS (x86_64-apple-darwin14.5.0)\n",
      "  CPU: Intel(R) Core(TM) i5-4258U CPU @ 2.40GHz\n",
      "  WORD_SIZE: 64\n",
      "  LIBM: libopenlibm\n",
      "  LLVM: libLLVM-6.0.0 (ORCJIT, haswell)\n"
     ]
    }
   ],
   "source": [
    "using InteractiveUtils # avoid deprecation warning\n",
    "versioninfo()"
   ]
  },
  {
   "cell_type": "markdown",
   "metadata": {},
   "source": [
    "Note the `using InteractiveUtils` command. In Julia 1.0 much functionality is being moved out of the `Base` library and into different modules in the standard library. In Julia 0.7 such commands will still work without the appropriate `using` statement but a deprecation warning will be emitted, such as:\n",
    "```\n",
    "WARNING: Base.versioninfo is deprecated: it has been moved to the standard library package `InteractiveUtils`.\n",
    "Add `using InteractiveUtils` to your imports.\n",
    "  likely near In[1]:1\n",
    "```\n",
    "\n",
    "Here the `using` statements are included before the first use of any such commands so that this notebook should be usable in Julia 1.0 when the deprecation warnings become errors."
   ]
  },
  {
   "cell_type": "markdown",
   "metadata": {},
   "source": [
    "The most recent returned value in the REPL can be accessed with `ans`, just as in MATLAB:"
   ]
  },
  {
   "cell_type": "code",
   "execution_count": 49,
   "metadata": {},
   "outputs": [
    {
     "data": {
      "text/plain": [
       "2"
      ]
     },
     "execution_count": 49,
     "metadata": {},
     "output_type": "execute_result"
    }
   ],
   "source": [
    "x = 2"
   ]
  },
  {
   "cell_type": "code",
   "execution_count": 50,
   "metadata": {},
   "outputs": [
    {
     "data": {
      "text/plain": [
       "2"
      ]
     },
     "execution_count": 50,
     "metadata": {},
     "output_type": "execute_result"
    }
   ],
   "source": [
    "ans"
   ]
  },
  {
   "cell_type": "markdown",
   "metadata": {},
   "source": [
    "In Julia `typeof` is similar to MATLAB's `class`:"
   ]
  },
  {
   "cell_type": "code",
   "execution_count": 51,
   "metadata": {},
   "outputs": [
    {
     "data": {
      "text/plain": [
       "Int64"
      ]
     },
     "execution_count": 51,
     "metadata": {},
     "output_type": "execute_result"
    }
   ],
   "source": [
    "typeof(x)"
   ]
  },
  {
   "cell_type": "markdown",
   "metadata": {},
   "source": [
    "But note that the default type in Julia is not `Float64` unlike MATLAB where `double` is the default. In fact the type of `x` in an assignment like `x = <literal>` will depend on what the literal is:"
   ]
  },
  {
   "cell_type": "code",
   "execution_count": 52,
   "metadata": {},
   "outputs": [
    {
     "data": {
      "text/plain": [
       "(Int64, Float64, Rational{Int64}, Float32)"
      ]
     },
     "execution_count": 52,
     "metadata": {},
     "output_type": "execute_result"
    }
   ],
   "source": [
    "xint = 2\n",
    "xfloat64 = 2.0\n",
    "xrational = 4//2\n",
    "xfloat32 = Float32(2)\n",
    "xs = (xint, xfloat64, xrational, xfloat32)\n",
    "typeof.(xs)"
   ]
  },
  {
   "cell_type": "markdown",
   "metadata": {},
   "source": [
    "It seems that Julia has some interesting built-in types, such as [`Rational`](https://docs.julialang.org/en/latest/manual/complex-and-rational-numbers/#Rational-Numbers-1) for rational numbers.\n",
    "\n",
    "Note that the `.` in `typeof.` uses a special Julia [syntax](https://docs.julialang.org/en/latest/manual/functions/#man-vectorized-1) that basically allows any function to be vectorized.\n",
    "\n",
    "Let's try this with a newly-defined function. Note that in Julia you can define [functions](https://docs.julialang.org/en/latest/manual/functions/) in a very compact way, e.g.:\n",
    "\n",
    "```julia\n",
    "f(x, y) = x + y\n",
    "```\n",
    "\n",
    "Moreover certain mathematical expressions can be written more compactly because Julia allows for variables to be prefixed by literal constants, for example you can write `2x + 3y` which is treated identically to `2*x + 3*y`.\n",
    "\n",
    "Julia also allows for Unicode in variable names, and the Julia REPL, Jupyter notebooks and most editors with Julia support allow easy entry of many of these using something similar to $\\LaTeX$ syntax. For example to get the unicode π you enter `\\pi` and then press the TAB key. This means that if you have a function that you'd write in math as $f(x) = 2x^2 + 5\\pi$ then in Julia source it can look nearly identical:"
   ]
  },
  {
   "cell_type": "code",
   "execution_count": 53,
   "metadata": {},
   "outputs": [
    {
     "data": {
      "text/plain": [
       "f (generic function with 1 method)"
      ]
     },
     "execution_count": 53,
     "metadata": {},
     "output_type": "execute_result"
    }
   ],
   "source": [
    "f(x) = 2x^2 + 5π"
   ]
  },
  {
   "cell_type": "code",
   "execution_count": 54,
   "metadata": {},
   "outputs": [
    {
     "data": {
      "text/plain": [
       "(23.707963267948966, 23.707963267948966, 23.707963267948966, 23.707963267948966)"
      ]
     },
     "execution_count": 54,
     "metadata": {},
     "output_type": "execute_result"
    }
   ],
   "source": [
    "f.(xs)"
   ]
  },
  {
   "cell_type": "code",
   "execution_count": 55,
   "metadata": {},
   "outputs": [
    {
     "data": {
      "text/plain": [
       "(Float64, Float64, Float64, Float64)"
      ]
     },
     "execution_count": 55,
     "metadata": {},
     "output_type": "execute_result"
    }
   ],
   "source": [
    "typeof.(ans)"
   ]
  },
  {
   "cell_type": "markdown",
   "metadata": {},
   "source": [
    "Well that was pretty cool. Notice that types get [promoted](https://docs.julialang.org/en/latest/manual/conversion-and-promotion/#Promotion-1) as necessary to evaluate a given expression:"
   ]
  },
  {
   "cell_type": "code",
   "execution_count": 56,
   "metadata": {},
   "outputs": [
    {
     "data": {
      "text/plain": [
       "(4//1, 15.707963267948966, 23.707963267948966)"
      ]
     },
     "execution_count": 56,
     "metadata": {},
     "output_type": "execute_result"
    }
   ],
   "source": [
    "(xrational^2, 5π, f(xrational))"
   ]
  },
  {
   "cell_type": "markdown",
   "metadata": {},
   "source": [
    "Above notice that a rational number remains rational when raised to an integer power, but when added to a floating point number the result is necessarily floating point. If we raise to a power that is floating point then the result is floating point:"
   ]
  },
  {
   "cell_type": "code",
   "execution_count": 57,
   "metadata": {},
   "outputs": [
    {
     "data": {
      "text/plain": [
       "4.0"
      ]
     },
     "execution_count": 57,
     "metadata": {},
     "output_type": "execute_result"
    }
   ],
   "source": [
    "xrational^2.0"
   ]
  },
  {
   "cell_type": "markdown",
   "metadata": {},
   "source": [
    "Interestingly Julia actually has an [`Irrational`](https://docs.julialang.org/en/latest/base/numbers/#Base.Irrational) type used for constants like $\\pi$:"
   ]
  },
  {
   "cell_type": "code",
   "execution_count": 58,
   "metadata": {},
   "outputs": [
    {
     "data": {
      "text/plain": [
       "Irrational{:π}"
      ]
     },
     "execution_count": 58,
     "metadata": {},
     "output_type": "execute_result"
    }
   ],
   "source": [
    "typeof(π)"
   ]
  },
  {
   "cell_type": "code",
   "execution_count": null,
   "metadata": {},
   "outputs": [],
   "source": []
  }
 ],
 "metadata": {
  "kernelspec": {
   "display_name": "Julia 0.7.0-beta2",
   "language": "julia",
   "name": "julia-0.7"
  },
  "language_info": {
   "file_extension": ".jl",
   "mimetype": "application/julia",
   "name": "julia",
   "version": "0.7.0"
  }
 },
 "nbformat": 4,
 "nbformat_minor": 2
}
