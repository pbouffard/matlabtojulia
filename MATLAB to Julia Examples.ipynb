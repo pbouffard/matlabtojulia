{
 "cells": [
  {
   "cell_type": "markdown",
   "metadata": {},
   "source": [
    "# Getting Started\n",
    "Let's start by printing out the version of Julia we're using:"
   ]
  },
  {
   "cell_type": "code",
   "execution_count": 4,
   "metadata": {},
   "outputs": [
    {
     "name": "stdout",
     "output_type": "stream",
     "text": [
      "Julia Version 0.7.0-beta2.0\n",
      "Commit b145832402* (2018-07-13 19:54 UTC)\n",
      "Platform Info:\n",
      "  OS: macOS (x86_64-apple-darwin14.5.0)\n",
      "  CPU: Intel(R) Core(TM) i5-4258U CPU @ 2.40GHz\n",
      "  WORD_SIZE: 64\n",
      "  LIBM: libopenlibm\n",
      "  LLVM: libLLVM-6.0.0 (ORCJIT, haswell)\n"
     ]
    }
   ],
   "source": [
    "using InteractiveUtils # avoid deprecation warning\n",
    "versioninfo()"
   ]
  },
  {
   "cell_type": "markdown",
   "metadata": {},
   "source": [
    "Note the `using InteractiveUtils` command. In Julia 1.0 much functionality is being moved out of the `Base` library and into different modules in the standard library. In Julia 0.7 such commands will still work without the appropriate `using` statement but a deprecation warning will be emitted, such as:\n",
    "```\n",
    "WARNING: Base.versioninfo is deprecated: it has been moved to the standard library package `InteractiveUtils`.\n",
    "Add `using InteractiveUtils` to your imports.\n",
    "  likely near In[1]:1\n",
    "```\n",
    "\n",
    "Here the `using` statements are included before the first use of any such commands so that this notebook should be usable in Julia 1.0 when the deprecation warnings become errors."
   ]
  },
  {
   "cell_type": "code",
   "execution_count": null,
   "metadata": {},
   "outputs": [],
   "source": []
  }
 ],
 "metadata": {
  "kernelspec": {
   "display_name": "Julia 0.7.0-beta2",
   "language": "julia",
   "name": "julia-0.7"
  },
  "language_info": {
   "file_extension": ".jl",
   "mimetype": "application/julia",
   "name": "julia",
   "version": "0.7.0"
  }
 },
 "nbformat": 4,
 "nbformat_minor": 2
}
